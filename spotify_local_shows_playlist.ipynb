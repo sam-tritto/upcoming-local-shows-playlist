{
 "cells": [
  {
   "cell_type": "code",
   "execution_count": 20,
   "metadata": {
    "collapsed": true
   },
   "outputs": [],
   "source": [
    "import requests\n",
    "import http.client\n",
    "\n",
    "import os\n",
    "from dotenv import load_dotenv\n",
    "\n",
    "import datetime\n",
    "\n",
    "from bs4 import BeautifulSoup\n",
    "import re\n",
    "from fuzzywuzzy import fuzz\n",
    "\n",
    "import spotipy\n",
    "from spotipy.oauth2 import SpotifyOAuth"
   ]
  },
  {
   "cell_type": "code",
   "execution_count": 21,
   "outputs": [
    {
     "data": {
      "text/plain": "'2022-02-07'"
     },
     "execution_count": 21,
     "metadata": {},
     "output_type": "execute_result"
    }
   ],
   "source": [
    "# get and format today's date\n",
    "today = datetime.datetime.today().date().strftime('%Y-%m-%d')\n",
    "today"
   ],
   "metadata": {
    "collapsed": false,
    "pycharm": {
     "name": "#%%\n"
    }
   }
  },
  {
   "cell_type": "code",
   "execution_count": 22,
   "outputs": [],
   "source": [
    " # enter website info\n",
    "url = f'https://www.bandsintown.com/?date={today}&date_filter=This+Week'\n",
    "headers = {'User-Agent': 'USERAGENT'}\n",
    "\n",
    "response = requests.get(url, headers=headers)"
   ],
   "metadata": {
    "collapsed": false,
    "pycharm": {
     "name": "#%%\n"
    }
   }
  },
  {
   "cell_type": "code",
   "execution_count": 23,
   "outputs": [
    {
     "data": {
      "text/plain": "200"
     },
     "execution_count": 23,
     "metadata": {},
     "output_type": "execute_result"
    }
   ],
   "source": [
    "# check to see if we have soup...  ('200' means that we have a valid connection)\n",
    "response.status_code"
   ],
   "metadata": {
    "collapsed": false,
    "pycharm": {
     "name": "#%%\n"
    }
   }
  },
  {
   "cell_type": "code",
   "execution_count": 60,
   "outputs": [],
   "source": [
    "# start the soup\n",
    "soup = BeautifulSoup(response.text, 'html.parser')"
   ],
   "metadata": {
    "collapsed": false,
    "pycharm": {
     "name": "#%%\n"
    }
   }
  },
  {
   "cell_type": "code",
   "execution_count": 85,
   "outputs": [],
   "source": [
    "link_list = []\n",
    "\n",
    "for link in soup.find_all('a', href=True, attrs={'href': re.compile(r\"^https://www.bandsintown.com\")}):\n",
    "    # display the actual urls\n",
    "    link_list.append(link.get('href'))"
   ],
   "metadata": {
    "collapsed": false,
    "pycharm": {
     "name": "#%%\n"
    }
   }
  },
  {
   "cell_type": "code",
   "execution_count": 86,
   "outputs": [],
   "source": [
    "event_urls = [link for link in link_list if link.startswith(\"https://www.bandsintown.com/e/\")]"
   ],
   "metadata": {
    "collapsed": false,
    "pycharm": {
     "name": "#%%\n"
    }
   }
  },
  {
   "cell_type": "code",
   "execution_count": 87,
   "outputs": [
    {
     "data": {
      "text/plain": "['https://www.bandsintown.com/e/102869786-martin-sexton-at-blue-note-hawaii?came_from=257&utm_medium=web&utm_source=home&utm_campaign=top_event',\n 'https://www.bandsintown.com/e/102869786-martin-sexton-at-blue-note-hawaii?came_from=257&utm_medium=web&utm_source=home&utm_campaign=top_event',\n 'https://www.bandsintown.com/e/102869786-martin-sexton-at-blue-note-hawaii?came_from=257&utm_medium=web&utm_source=home&utm_campaign=top_event',\n 'https://www.bandsintown.com/e/102869786-martin-sexton-at-blue-note-hawaii?came_from=257&utm_medium=web&utm_source=home&utm_campaign=top_event',\n 'https://www.bandsintown.com/e/1023510713-rebelution-at-waikiki-shell?came_from=257&utm_medium=web&utm_source=home&utm_campaign=top_event',\n 'https://www.bandsintown.com/e/1023510713-rebelution-at-waikiki-shell?came_from=257&utm_medium=web&utm_source=home&utm_campaign=top_event',\n 'https://www.bandsintown.com/e/1023510713-rebelution-at-waikiki-shell?came_from=257&utm_medium=web&utm_source=home&utm_campaign=top_event',\n 'https://www.bandsintown.com/e/1023510713-rebelution-at-waikiki-shell?came_from=257&utm_medium=web&utm_source=home&utm_campaign=top_event',\n 'https://www.bandsintown.com/e/102724676-kt-tunstall-at-blue-note-hawaii?came_from=257&utm_medium=web&utm_source=home&utm_campaign=top_event',\n 'https://www.bandsintown.com/e/102724676-kt-tunstall-at-blue-note-hawaii?came_from=257&utm_medium=web&utm_source=home&utm_campaign=top_event',\n 'https://www.bandsintown.com/e/102724676-kt-tunstall-at-blue-note-hawaii?came_from=257&utm_medium=web&utm_source=home&utm_campaign=top_event',\n 'https://www.bandsintown.com/e/102724676-kt-tunstall-at-blue-note-hawaii?came_from=257&utm_medium=web&utm_source=home&utm_campaign=top_event',\n 'https://www.bandsintown.com/e/103102900-peter-white-at-ala-moana-hotel?came_from=257&utm_medium=web&utm_source=home&utm_campaign=top_event',\n 'https://www.bandsintown.com/e/103102900-peter-white-at-ala-moana-hotel?came_from=257&utm_medium=web&utm_source=home&utm_campaign=top_event',\n 'https://www.bandsintown.com/e/103102900-peter-white-at-ala-moana-hotel?came_from=257&utm_medium=web&utm_source=home&utm_campaign=top_event',\n 'https://www.bandsintown.com/e/103102900-peter-white-at-ala-moana-hotel?came_from=257&utm_medium=web&utm_source=home&utm_campaign=top_event',\n 'https://www.bandsintown.com/e/102977409-borgeous-at-the-republik?came_from=257&utm_medium=web&utm_source=home&utm_campaign=top_event',\n 'https://www.bandsintown.com/e/102977409-borgeous-at-the-republik?came_from=257&utm_medium=web&utm_source=home&utm_campaign=top_event',\n 'https://www.bandsintown.com/e/102977409-borgeous-at-the-republik?came_from=257&utm_medium=web&utm_source=home&utm_campaign=top_event',\n 'https://www.bandsintown.com/e/102977409-borgeous-at-the-republik?came_from=257&utm_medium=web&utm_source=home&utm_campaign=top_event',\n 'https://www.bandsintown.com/e/103066164-mike-love-at-blue-note-hawaii?came_from=257&utm_medium=web&utm_source=home&utm_campaign=top_event',\n 'https://www.bandsintown.com/e/103066164-mike-love-at-blue-note-hawaii?came_from=257&utm_medium=web&utm_source=home&utm_campaign=top_event',\n 'https://www.bandsintown.com/e/103066164-mike-love-at-blue-note-hawaii?came_from=257&utm_medium=web&utm_source=home&utm_campaign=top_event',\n 'https://www.bandsintown.com/e/103066164-mike-love-at-blue-note-hawaii?came_from=257&utm_medium=web&utm_source=home&utm_campaign=top_event',\n 'https://www.bandsintown.com/e/1023499361-jvna-at-the-republik?came_from=257&utm_medium=web&utm_source=home&utm_campaign=top_event',\n 'https://www.bandsintown.com/e/1023499361-jvna-at-the-republik?came_from=257&utm_medium=web&utm_source=home&utm_campaign=top_event',\n 'https://www.bandsintown.com/e/1023499361-jvna-at-the-republik?came_from=257&utm_medium=web&utm_source=home&utm_campaign=top_event',\n 'https://www.bandsintown.com/e/1023499361-jvna-at-the-republik?came_from=257&utm_medium=web&utm_source=home&utm_campaign=top_event',\n 'https://www.bandsintown.com/e/103106533-anuhea-at-aloha-stadium?came_from=257&utm_medium=web&utm_source=home&utm_campaign=top_event',\n 'https://www.bandsintown.com/e/103106533-anuhea-at-aloha-stadium?came_from=257&utm_medium=web&utm_source=home&utm_campaign=top_event',\n 'https://www.bandsintown.com/e/103106533-anuhea-at-aloha-stadium?came_from=257&utm_medium=web&utm_source=home&utm_campaign=top_event',\n \"https://www.bandsintown.com/e/103081890-sullivan-king-at-hawaiian-brian's?came_from=257&utm_medium=web&utm_source=home&utm_campaign=top_event\",\n \"https://www.bandsintown.com/e/103081890-sullivan-king-at-hawaiian-brian's?came_from=257&utm_medium=web&utm_source=home&utm_campaign=top_event\",\n \"https://www.bandsintown.com/e/103081890-sullivan-king-at-hawaiian-brian's?came_from=257&utm_medium=web&utm_source=home&utm_campaign=top_event\",\n 'https://www.bandsintown.com/e/102754591-air-supply-at-blue-note-hawaii?came_from=257&utm_medium=web&utm_source=home&utm_campaign=top_event',\n 'https://www.bandsintown.com/e/102754591-air-supply-at-blue-note-hawaii?came_from=257&utm_medium=web&utm_source=home&utm_campaign=top_event',\n 'https://www.bandsintown.com/e/102754591-air-supply-at-blue-note-hawaii?came_from=257&utm_medium=web&utm_source=home&utm_campaign=top_event',\n 'https://www.bandsintown.com/e/102754591-air-supply-at-blue-note-hawaii?came_from=257&utm_medium=web&utm_source=home&utm_campaign=top_event',\n 'https://www.bandsintown.com/e/103098638-taylor-dayne-at-aloha-tower-marketplace?came_from=257&utm_medium=web&utm_source=home&utm_campaign=top_event',\n 'https://www.bandsintown.com/e/103098638-taylor-dayne-at-aloha-tower-marketplace?came_from=257&utm_medium=web&utm_source=home&utm_campaign=top_event',\n 'https://www.bandsintown.com/e/103098638-taylor-dayne-at-aloha-tower-marketplace?came_from=257&utm_medium=web&utm_source=home&utm_campaign=top_event',\n 'https://www.bandsintown.com/e/1022926726-zeds-dead-at-kapolei-events-center?came_from=257&utm_medium=web&utm_source=home&utm_campaign=top_event',\n 'https://www.bandsintown.com/e/1022926726-zeds-dead-at-kapolei-events-center?came_from=257&utm_medium=web&utm_source=home&utm_campaign=top_event',\n 'https://www.bandsintown.com/e/1022926726-zeds-dead-at-kapolei-events-center?came_from=257&utm_medium=web&utm_source=home&utm_campaign=top_event',\n 'https://www.bandsintown.com/e/1022926726-zeds-dead-at-kapolei-events-center?came_from=257&utm_medium=web&utm_source=home&utm_campaign=top_event',\n 'https://www.bandsintown.com/e/1023000659-fia-at-waikiki-shell?came_from=257&utm_medium=web&utm_source=home&utm_campaign=top_event',\n 'https://www.bandsintown.com/e/1023000659-fia-at-waikiki-shell?came_from=257&utm_medium=web&utm_source=home&utm_campaign=top_event',\n 'https://www.bandsintown.com/e/1023000659-fia-at-waikiki-shell?came_from=257&utm_medium=web&utm_source=home&utm_campaign=top_event',\n 'https://www.bandsintown.com/e/1023000659-fia-at-waikiki-shell?came_from=257&utm_medium=web&utm_source=home&utm_campaign=top_event',\n 'https://www.bandsintown.com/e/102951028-ron-artis-ii-at-hawaii-theatre?came_from=257&utm_medium=web&utm_source=home&utm_campaign=top_event',\n 'https://www.bandsintown.com/e/102951028-ron-artis-ii-at-hawaii-theatre?came_from=257&utm_medium=web&utm_source=home&utm_campaign=top_event',\n 'https://www.bandsintown.com/e/102951028-ron-artis-ii-at-hawaii-theatre?came_from=257&utm_medium=web&utm_source=home&utm_campaign=top_event',\n 'https://www.bandsintown.com/e/102951028-ron-artis-ii-at-hawaii-theatre?came_from=257&utm_medium=web&utm_source=home&utm_campaign=top_event',\n 'https://www.bandsintown.com/e/1023204483-hippie-sabotage-at-the-republik?came_from=257&utm_medium=web&utm_source=home&utm_campaign=top_event',\n 'https://www.bandsintown.com/e/1023204483-hippie-sabotage-at-the-republik?came_from=257&utm_medium=web&utm_source=home&utm_campaign=top_event',\n 'https://www.bandsintown.com/e/1023204483-hippie-sabotage-at-the-republik?came_from=257&utm_medium=web&utm_source=home&utm_campaign=top_event',\n 'https://www.bandsintown.com/e/1023204483-hippie-sabotage-at-the-republik?came_from=257&utm_medium=web&utm_source=home&utm_campaign=top_event',\n 'https://www.bandsintown.com/e/103114716-krewella-at-the-republik?came_from=257&utm_medium=web&utm_source=home&utm_campaign=top_event',\n 'https://www.bandsintown.com/e/103114716-krewella-at-the-republik?came_from=257&utm_medium=web&utm_source=home&utm_campaign=top_event',\n 'https://www.bandsintown.com/e/103114716-krewella-at-the-republik?came_from=257&utm_medium=web&utm_source=home&utm_campaign=top_event',\n 'https://www.bandsintown.com/e/103114716-krewella-at-the-republik?came_from=257&utm_medium=web&utm_source=home&utm_campaign=top_event',\n 'https://www.bandsintown.com/e/102772879-henry-kapono-at-waikiki-shell?came_from=257&utm_medium=web&utm_source=home&utm_campaign=top_event',\n 'https://www.bandsintown.com/e/102772879-henry-kapono-at-waikiki-shell?came_from=257&utm_medium=web&utm_source=home&utm_campaign=top_event',\n 'https://www.bandsintown.com/e/102772879-henry-kapono-at-waikiki-shell?came_from=257&utm_medium=web&utm_source=home&utm_campaign=top_event',\n 'https://www.bandsintown.com/e/102772879-henry-kapono-at-waikiki-shell?came_from=257&utm_medium=web&utm_source=home&utm_campaign=top_event',\n 'https://www.bandsintown.com/e/102880874-ajr-at-waikiki-shell?came_from=257&utm_medium=web&utm_source=home&utm_campaign=top_event',\n 'https://www.bandsintown.com/e/102880874-ajr-at-waikiki-shell?came_from=257&utm_medium=web&utm_source=home&utm_campaign=top_event',\n 'https://www.bandsintown.com/e/102880874-ajr-at-waikiki-shell?came_from=257&utm_medium=web&utm_source=home&utm_campaign=top_event',\n 'https://www.bandsintown.com/e/102880874-ajr-at-waikiki-shell?came_from=257&utm_medium=web&utm_source=home&utm_campaign=top_event',\n 'https://www.bandsintown.com/e/1023510713-rebelution-at-waikiki-shell?came_from=257&utm_medium=web&utm_source=home&utm_campaign=just_announced',\n 'https://www.bandsintown.com/e/1023510713-rebelution-at-waikiki-shell?came_from=257&utm_medium=web&utm_source=home&utm_campaign=just_announced',\n 'https://www.bandsintown.com/e/1023510713-rebelution-at-waikiki-shell?came_from=257&utm_medium=web&utm_source=home&utm_campaign=just_announced',\n 'https://www.bandsintown.com/e/1023510713-rebelution-at-waikiki-shell?came_from=257&utm_medium=web&utm_source=home&utm_campaign=just_announced',\n 'https://www.bandsintown.com/e/1023499361-jvna-at-the-republik?came_from=257&utm_medium=web&utm_source=home&utm_campaign=just_announced',\n 'https://www.bandsintown.com/e/1023499361-jvna-at-the-republik?came_from=257&utm_medium=web&utm_source=home&utm_campaign=just_announced',\n 'https://www.bandsintown.com/e/1023499361-jvna-at-the-republik?came_from=257&utm_medium=web&utm_source=home&utm_campaign=just_announced',\n 'https://www.bandsintown.com/e/1023499361-jvna-at-the-republik?came_from=257&utm_medium=web&utm_source=home&utm_campaign=just_announced',\n 'https://www.bandsintown.com/e/102951028-ron-artis-ii-at-hawaii-theatre?came_from=257&utm_medium=web&utm_source=home&utm_campaign=just_announced',\n 'https://www.bandsintown.com/e/102951028-ron-artis-ii-at-hawaii-theatre?came_from=257&utm_medium=web&utm_source=home&utm_campaign=just_announced',\n 'https://www.bandsintown.com/e/102951028-ron-artis-ii-at-hawaii-theatre?came_from=257&utm_medium=web&utm_source=home&utm_campaign=just_announced',\n 'https://www.bandsintown.com/e/102951028-ron-artis-ii-at-hawaii-theatre?came_from=257&utm_medium=web&utm_source=home&utm_campaign=just_announced',\n 'https://www.bandsintown.com/e/103066168-mike-love-at-blue-note-hawaii?came_from=257&utm_medium=web&utm_source=home&utm_campaign=just_announced',\n 'https://www.bandsintown.com/e/103066168-mike-love-at-blue-note-hawaii?came_from=257&utm_medium=web&utm_source=home&utm_campaign=just_announced',\n 'https://www.bandsintown.com/e/103066168-mike-love-at-blue-note-hawaii?came_from=257&utm_medium=web&utm_source=home&utm_campaign=just_announced',\n 'https://www.bandsintown.com/e/103066168-mike-love-at-blue-note-hawaii?came_from=257&utm_medium=web&utm_source=home&utm_campaign=just_announced',\n 'https://www.bandsintown.com/e/103102900-peter-white-at-ala-moana-hotel?came_from=257&utm_medium=web&utm_source=home&utm_campaign=just_announced',\n 'https://www.bandsintown.com/e/103102900-peter-white-at-ala-moana-hotel?came_from=257&utm_medium=web&utm_source=home&utm_campaign=just_announced',\n 'https://www.bandsintown.com/e/103102900-peter-white-at-ala-moana-hotel?came_from=257&utm_medium=web&utm_source=home&utm_campaign=just_announced',\n 'https://www.bandsintown.com/e/103102900-peter-white-at-ala-moana-hotel?came_from=257&utm_medium=web&utm_source=home&utm_campaign=just_announced',\n 'https://www.bandsintown.com/e/1023869156-gabriel-iglesias-at-neal-s-blaisdell-center?came_from=257&utm_medium=web&utm_source=home&utm_campaign=just_announced',\n 'https://www.bandsintown.com/e/1023869156-gabriel-iglesias-at-neal-s-blaisdell-center?came_from=257&utm_medium=web&utm_source=home&utm_campaign=just_announced',\n 'https://www.bandsintown.com/e/1023869156-gabriel-iglesias-at-neal-s-blaisdell-center?came_from=257&utm_medium=web&utm_source=home&utm_campaign=just_announced',\n 'https://www.bandsintown.com/e/1023869156-gabriel-iglesias-at-neal-s-blaisdell-center?came_from=257&utm_medium=web&utm_source=home&utm_campaign=just_announced',\n 'https://www.bandsintown.com/e/103114716-krewella-at-the-republik?came_from=257&utm_medium=web&utm_source=home&utm_campaign=just_announced',\n 'https://www.bandsintown.com/e/103114716-krewella-at-the-republik?came_from=257&utm_medium=web&utm_source=home&utm_campaign=just_announced',\n 'https://www.bandsintown.com/e/103114716-krewella-at-the-republik?came_from=257&utm_medium=web&utm_source=home&utm_campaign=just_announced',\n 'https://www.bandsintown.com/e/103114716-krewella-at-the-republik?came_from=257&utm_medium=web&utm_source=home&utm_campaign=just_announced',\n 'https://www.bandsintown.com/e/103106533-anuhea-at-aloha-stadium?came_from=257&utm_medium=web&utm_source=home&utm_campaign=just_announced',\n 'https://www.bandsintown.com/e/103106533-anuhea-at-aloha-stadium?came_from=257&utm_medium=web&utm_source=home&utm_campaign=just_announced',\n 'https://www.bandsintown.com/e/103106533-anuhea-at-aloha-stadium?came_from=257&utm_medium=web&utm_source=home&utm_campaign=just_announced',\n 'https://www.bandsintown.com/e/103131657-fia-at-maui-brewing-co.-waikiki?came_from=257&utm_medium=web&utm_source=home&utm_campaign=event',\n 'https://www.bandsintown.com/e/102987480-christafari-at-new-hope?came_from=257&utm_medium=web&utm_source=home&utm_campaign=event',\n 'https://www.bandsintown.com/e/102999633-avion-blackman-at-new-hope?came_from=257&utm_medium=web&utm_source=home&utm_campaign=event',\n 'https://www.bandsintown.com/e/102869784-martin-sexton-at-blue-note-hawaii?came_from=257&utm_medium=web&utm_source=home&utm_campaign=event',\n 'https://www.bandsintown.com/e/102869786-martin-sexton-at-blue-note-hawaii?came_from=257&utm_medium=web&utm_source=home&utm_campaign=event',\n \"https://www.bandsintown.com/e/103124344-bobby-moderow-jr.-at-duke's-waikiki?came_from=257&utm_medium=web&utm_source=home&utm_campaign=event\",\n 'https://www.bandsintown.com/e/103165292-michael-delara-at-maui-brewing-co.-waikiki?came_from=257&utm_medium=web&utm_source=home&utm_campaign=event',\n 'https://www.bandsintown.com/e/102724673-kt-tunstall-at-blue-note-hawaii?came_from=257&utm_medium=web&utm_source=home&utm_campaign=event',\n 'https://www.bandsintown.com/e/103021951-jasmin-nicole-at-waikiki-shell?came_from=257&utm_medium=web&utm_source=home&utm_campaign=event',\n 'https://www.bandsintown.com/e/103160927-avion-blackman-at-one-love-ministries?came_from=257&utm_medium=web&utm_source=home&utm_campaign=event',\n 'https://www.bandsintown.com/e/1023510713-rebelution-at-waikiki-shell?came_from=257&utm_medium=web&utm_source=home&utm_campaign=event',\n 'https://www.bandsintown.com/e/103119446-christafari-at-one-love-ministries?came_from=257&utm_medium=web&utm_source=home&utm_campaign=event',\n 'https://www.bandsintown.com/e/103152229-john-craigie-at-the-republik?came_from=257&utm_medium=web&utm_source=home&utm_campaign=event',\n 'https://www.bandsintown.com/e/102724674-kt-tunstall-at-blue-note-hawaii?came_from=257&utm_medium=web&utm_source=home&utm_campaign=event',\n 'https://www.bandsintown.com/e/103166838-christafari-at-christafari-waikiki-outreach-event?came_from=257&utm_medium=web&utm_source=home&utm_campaign=event',\n 'https://www.bandsintown.com/e/102724676-kt-tunstall-at-blue-note-hawaii?came_from=257&utm_medium=web&utm_source=home&utm_campaign=event',\n 'https://www.bandsintown.com/e/103102900-peter-white-at-ala-moana-hotel?came_from=257&utm_medium=web&utm_source=home&utm_campaign=event',\n 'https://www.bandsintown.com/e/102724677-kt-tunstall-at-blue-note-hawaii?came_from=257&utm_medium=web&utm_source=home&utm_campaign=event']"
     },
     "execution_count": 87,
     "metadata": {},
     "output_type": "execute_result"
    }
   ],
   "source": [
    "event_urls"
   ],
   "metadata": {
    "collapsed": false,
    "pycharm": {
     "name": "#%%\n"
    }
   }
  },
  {
   "cell_type": "code",
   "execution_count": 88,
   "outputs": [
    {
     "name": "stdout",
     "output_type": "stream",
     "text": [
      "['https://www.bandsintown.com/e/102869786-martin-sexton-at', 'https://www.bandsintown.com/e/102869786-martin-sexton-at', 'https://www.bandsintown.com/e/102869786-martin-sexton-at', 'https://www.bandsintown.com/e/102869786-martin-sexton-at', 'https://www.bandsintown.com/e/1023510713-rebelution-at', 'https://www.bandsintown.com/e/1023510713-rebelution-at', 'https://www.bandsintown.com/e/1023510713-rebelution-at', 'https://www.bandsintown.com/e/1023510713-rebelution-at', 'https://www.bandsintown.com/e/102724676-kt-tunstall-at', 'https://www.bandsintown.com/e/102724676-kt-tunstall-at', 'https://www.bandsintown.com/e/102724676-kt-tunstall-at', 'https://www.bandsintown.com/e/102724676-kt-tunstall-at', 'https://www.bandsintown.com/e/103102900-peter-white-at', 'https://www.bandsintown.com/e/103102900-peter-white-at', 'https://www.bandsintown.com/e/103102900-peter-white-at', 'https://www.bandsintown.com/e/103102900-peter-white-at', 'https://www.bandsintown.com/e/102977409-borgeous-at', 'https://www.bandsintown.com/e/102977409-borgeous-at', 'https://www.bandsintown.com/e/102977409-borgeous-at', 'https://www.bandsintown.com/e/102977409-borgeous-at', 'https://www.bandsintown.com/e/103066164-mike-love-at', 'https://www.bandsintown.com/e/103066164-mike-love-at', 'https://www.bandsintown.com/e/103066164-mike-love-at', 'https://www.bandsintown.com/e/103066164-mike-love-at', 'https://www.bandsintown.com/e/1023499361-jvna-at', 'https://www.bandsintown.com/e/1023499361-jvna-at', 'https://www.bandsintown.com/e/1023499361-jvna-at', 'https://www.bandsintown.com/e/1023499361-jvna-at', 'https://www.bandsintown.com/e/103106533-anuhea-at', 'https://www.bandsintown.com/e/103106533-anuhea-at', 'https://www.bandsintown.com/e/103106533-anuhea-at', 'https://www.bandsintown.com/e/103081890-sullivan-king-at', 'https://www.bandsintown.com/e/103081890-sullivan-king-at', 'https://www.bandsintown.com/e/103081890-sullivan-king-at', 'https://www.bandsintown.com/e/102754591-air-supply-at', 'https://www.bandsintown.com/e/102754591-air-supply-at', 'https://www.bandsintown.com/e/102754591-air-supply-at', 'https://www.bandsintown.com/e/102754591-air-supply-at', 'https://www.bandsintown.com/e/103098638-taylor-dayne-at', 'https://www.bandsintown.com/e/103098638-taylor-dayne-at', 'https://www.bandsintown.com/e/103098638-taylor-dayne-at', 'https://www.bandsintown.com/e/1022926726-zeds-dead-at', 'https://www.bandsintown.com/e/1022926726-zeds-dead-at', 'https://www.bandsintown.com/e/1022926726-zeds-dead-at', 'https://www.bandsintown.com/e/1022926726-zeds-dead-at', 'https://www.bandsintown.com/e/1023000659-fia-at', 'https://www.bandsintown.com/e/1023000659-fia-at', 'https://www.bandsintown.com/e/1023000659-fia-at', 'https://www.bandsintown.com/e/1023000659-fia-at', 'https://www.bandsintown.com/e/102951028-ron-artis-ii-at', 'https://www.bandsintown.com/e/102951028-ron-artis-ii-at', 'https://www.bandsintown.com/e/102951028-ron-artis-ii-at', 'https://www.bandsintown.com/e/102951028-ron-artis-ii-at', 'https://www.bandsintown.com/e/1023204483-hippie-sabotage-at', 'https://www.bandsintown.com/e/1023204483-hippie-sabotage-at', 'https://www.bandsintown.com/e/1023204483-hippie-sabotage-at', 'https://www.bandsintown.com/e/1023204483-hippie-sabotage-at', 'https://www.bandsintown.com/e/103114716-krewella-at', 'https://www.bandsintown.com/e/103114716-krewella-at', 'https://www.bandsintown.com/e/103114716-krewella-at', 'https://www.bandsintown.com/e/103114716-krewella-at', 'https://www.bandsintown.com/e/102772879-henry-kapono-at', 'https://www.bandsintown.com/e/102772879-henry-kapono-at', 'https://www.bandsintown.com/e/102772879-henry-kapono-at', 'https://www.bandsintown.com/e/102772879-henry-kapono-at', 'https://www.bandsintown.com/e/102880874-ajr-at', 'https://www.bandsintown.com/e/102880874-ajr-at', 'https://www.bandsintown.com/e/102880874-ajr-at', 'https://www.bandsintown.com/e/102880874-ajr-at', 'https://www.bandsintown.com/e/1023510713-rebelution-at', 'https://www.bandsintown.com/e/1023510713-rebelution-at', 'https://www.bandsintown.com/e/1023510713-rebelution-at', 'https://www.bandsintown.com/e/1023510713-rebelution-at', 'https://www.bandsintown.com/e/1023499361-jvna-at', 'https://www.bandsintown.com/e/1023499361-jvna-at', 'https://www.bandsintown.com/e/1023499361-jvna-at', 'https://www.bandsintown.com/e/1023499361-jvna-at', 'https://www.bandsintown.com/e/102951028-ron-artis-ii-at', 'https://www.bandsintown.com/e/102951028-ron-artis-ii-at', 'https://www.bandsintown.com/e/102951028-ron-artis-ii-at', 'https://www.bandsintown.com/e/102951028-ron-artis-ii-at', 'https://www.bandsintown.com/e/103066168-mike-love-at', 'https://www.bandsintown.com/e/103066168-mike-love-at', 'https://www.bandsintown.com/e/103066168-mike-love-at', 'https://www.bandsintown.com/e/103066168-mike-love-at', 'https://www.bandsintown.com/e/103102900-peter-white-at', 'https://www.bandsintown.com/e/103102900-peter-white-at', 'https://www.bandsintown.com/e/103102900-peter-white-at', 'https://www.bandsintown.com/e/103102900-peter-white-at', 'https://www.bandsintown.com/e/1023869156-gabriel-iglesias-at', 'https://www.bandsintown.com/e/1023869156-gabriel-iglesias-at', 'https://www.bandsintown.com/e/1023869156-gabriel-iglesias-at', 'https://www.bandsintown.com/e/1023869156-gabriel-iglesias-at', 'https://www.bandsintown.com/e/103114716-krewella-at', 'https://www.bandsintown.com/e/103114716-krewella-at', 'https://www.bandsintown.com/e/103114716-krewella-at', 'https://www.bandsintown.com/e/103114716-krewella-at', 'https://www.bandsintown.com/e/103106533-anuhea-at', 'https://www.bandsintown.com/e/103106533-anuhea-at', 'https://www.bandsintown.com/e/103106533-anuhea-at', 'https://www.bandsintown.com/e/103131657-fia-at', 'https://www.bandsintown.com/e/102987480-christafari-at', 'https://www.bandsintown.com/e/102999633-avion-blackman-at', 'https://www.bandsintown.com/e/102869784-martin-sexton-at', 'https://www.bandsintown.com/e/102869786-martin-sexton-at', 'https://www.bandsintown.com/e/103124344-bobby-moderow-jr.-at', 'https://www.bandsintown.com/e/103165292-michael-delara-at', 'https://www.bandsintown.com/e/102724673-kt-tunstall-at', 'https://www.bandsintown.com/e/103021951-jasmin-nicole-at', 'https://www.bandsintown.com/e/103160927-avion-blackman-at', 'https://www.bandsintown.com/e/1023510713-rebelution-at', 'https://www.bandsintown.com/e/103119446-christafari-at', 'https://www.bandsintown.com/e/103152229-john-craigie-at', 'https://www.bandsintown.com/e/102724674-kt-tunstall-at', 'https://www.bandsintown.com/e/103166838-christafari-at', 'https://www.bandsintown.com/e/102724676-kt-tunstall-at', 'https://www.bandsintown.com/e/103102900-peter-white-at', 'https://www.bandsintown.com/e/102724677-kt-tunstall-at']\n"
     ]
    }
   ],
   "source": [
    "# grab the 'event's near' info from bottom of website\n",
    "pattern = re.compile(r\"\\b\\S*-at\\b\")\n",
    "reg_list = [re.search(pattern , str(x)).group(0) for x in event_urls]\n",
    "print(reg_list)\n"
   ],
   "metadata": {
    "collapsed": false,
    "pycharm": {
     "name": "#%%\n"
    }
   }
  },
  {
   "cell_type": "code",
   "execution_count": 89,
   "outputs": [
    {
     "name": "stdout",
     "output_type": "stream",
     "text": [
      "['https://www.bandsintown.com/e/102869786 martin sexton', 'https://www.bandsintown.com/e/102869786 martin sexton', 'https://www.bandsintown.com/e/102869786 martin sexton', 'https://www.bandsintown.com/e/102869786 martin sexton', 'https://www.bandsintown.com/e/1023510713 rebelution', 'https://www.bandsintown.com/e/1023510713 rebelution', 'https://www.bandsintown.com/e/1023510713 rebelution', 'https://www.bandsintown.com/e/1023510713 rebelution', 'https://www.bandsintown.com/e/102724676 kt tunstall', 'https://www.bandsintown.com/e/102724676 kt tunstall', 'https://www.bandsintown.com/e/102724676 kt tunstall', 'https://www.bandsintown.com/e/102724676 kt tunstall', 'https://www.bandsintown.com/e/103102900 peter white', 'https://www.bandsintown.com/e/103102900 peter white', 'https://www.bandsintown.com/e/103102900 peter white', 'https://www.bandsintown.com/e/103102900 peter white', 'https://www.bandsintown.com/e/102977409 borgeous', 'https://www.bandsintown.com/e/102977409 borgeous', 'https://www.bandsintown.com/e/102977409 borgeous', 'https://www.bandsintown.com/e/102977409 borgeous', 'https://www.bandsintown.com/e/103066164 mike love', 'https://www.bandsintown.com/e/103066164 mike love', 'https://www.bandsintown.com/e/103066164 mike love', 'https://www.bandsintown.com/e/103066164 mike love', 'https://www.bandsintown.com/e/1023499361 jvna', 'https://www.bandsintown.com/e/1023499361 jvna', 'https://www.bandsintown.com/e/1023499361 jvna', 'https://www.bandsintown.com/e/1023499361 jvna', 'https://www.bandsintown.com/e/103106533 anuhea', 'https://www.bandsintown.com/e/103106533 anuhea', 'https://www.bandsintown.com/e/103106533 anuhea', 'https://www.bandsintown.com/e/103081890 sullivan king', 'https://www.bandsintown.com/e/103081890 sullivan king', 'https://www.bandsintown.com/e/103081890 sullivan king', 'https://www.bandsintown.com/e/102754591 air supply', 'https://www.bandsintown.com/e/102754591 air supply', 'https://www.bandsintown.com/e/102754591 air supply', 'https://www.bandsintown.com/e/102754591 air supply', 'https://www.bandsintown.com/e/103098638 taylor dayne', 'https://www.bandsintown.com/e/103098638 taylor dayne', 'https://www.bandsintown.com/e/103098638 taylor dayne', 'https://www.bandsintown.com/e/1022926726 zeds dead', 'https://www.bandsintown.com/e/1022926726 zeds dead', 'https://www.bandsintown.com/e/1022926726 zeds dead', 'https://www.bandsintown.com/e/1022926726 zeds dead', 'https://www.bandsintown.com/e/1023000659 fia', 'https://www.bandsintown.com/e/1023000659 fia', 'https://www.bandsintown.com/e/1023000659 fia', 'https://www.bandsintown.com/e/1023000659 fia', 'https://www.bandsintown.com/e/102951028 ron artis ii', 'https://www.bandsintown.com/e/102951028 ron artis ii', 'https://www.bandsintown.com/e/102951028 ron artis ii', 'https://www.bandsintown.com/e/102951028 ron artis ii', 'https://www.bandsintown.com/e/1023204483 hippie sabotage', 'https://www.bandsintown.com/e/1023204483 hippie sabotage', 'https://www.bandsintown.com/e/1023204483 hippie sabotage', 'https://www.bandsintown.com/e/1023204483 hippie sabotage', 'https://www.bandsintown.com/e/103114716 krewella', 'https://www.bandsintown.com/e/103114716 krewella', 'https://www.bandsintown.com/e/103114716 krewella', 'https://www.bandsintown.com/e/103114716 krewella', 'https://www.bandsintown.com/e/102772879 henry kapono', 'https://www.bandsintown.com/e/102772879 henry kapono', 'https://www.bandsintown.com/e/102772879 henry kapono', 'https://www.bandsintown.com/e/102772879 henry kapono', 'https://www.bandsintown.com/e/102880874 ajr', 'https://www.bandsintown.com/e/102880874 ajr', 'https://www.bandsintown.com/e/102880874 ajr', 'https://www.bandsintown.com/e/102880874 ajr', 'https://www.bandsintown.com/e/1023510713 rebelution', 'https://www.bandsintown.com/e/1023510713 rebelution', 'https://www.bandsintown.com/e/1023510713 rebelution', 'https://www.bandsintown.com/e/1023510713 rebelution', 'https://www.bandsintown.com/e/1023499361 jvna', 'https://www.bandsintown.com/e/1023499361 jvna', 'https://www.bandsintown.com/e/1023499361 jvna', 'https://www.bandsintown.com/e/1023499361 jvna', 'https://www.bandsintown.com/e/102951028 ron artis ii', 'https://www.bandsintown.com/e/102951028 ron artis ii', 'https://www.bandsintown.com/e/102951028 ron artis ii', 'https://www.bandsintown.com/e/102951028 ron artis ii', 'https://www.bandsintown.com/e/103066168 mike love', 'https://www.bandsintown.com/e/103066168 mike love', 'https://www.bandsintown.com/e/103066168 mike love', 'https://www.bandsintown.com/e/103066168 mike love', 'https://www.bandsintown.com/e/103102900 peter white', 'https://www.bandsintown.com/e/103102900 peter white', 'https://www.bandsintown.com/e/103102900 peter white', 'https://www.bandsintown.com/e/103102900 peter white', 'https://www.bandsintown.com/e/1023869156 gabriel iglesias', 'https://www.bandsintown.com/e/1023869156 gabriel iglesias', 'https://www.bandsintown.com/e/1023869156 gabriel iglesias', 'https://www.bandsintown.com/e/1023869156 gabriel iglesias', 'https://www.bandsintown.com/e/103114716 krewella', 'https://www.bandsintown.com/e/103114716 krewella', 'https://www.bandsintown.com/e/103114716 krewella', 'https://www.bandsintown.com/e/103114716 krewella', 'https://www.bandsintown.com/e/103106533 anuhea', 'https://www.bandsintown.com/e/103106533 anuhea', 'https://www.bandsintown.com/e/103106533 anuhea', 'https://www.bandsintown.com/e/103131657 fia', 'https://www.bandsintown.com/e/102987480 christafari', 'https://www.bandsintown.com/e/102999633 avion blackman', 'https://www.bandsintown.com/e/102869784 martin sexton', 'https://www.bandsintown.com/e/102869786 martin sexton', 'https://www.bandsintown.com/e/103124344 bobby moderow jr.', 'https://www.bandsintown.com/e/103165292 michael delara', 'https://www.bandsintown.com/e/102724673 kt tunstall', 'https://www.bandsintown.com/e/103021951 jasmin nicole', 'https://www.bandsintown.com/e/103160927 avion blackman', 'https://www.bandsintown.com/e/1023510713 rebelution', 'https://www.bandsintown.com/e/103119446 christafari', 'https://www.bandsintown.com/e/103152229 john craigie', 'https://www.bandsintown.com/e/102724674 kt tunstall', 'https://www.bandsintown.com/e/103166838 christafari', 'https://www.bandsintown.com/e/102724676 kt tunstall', 'https://www.bandsintown.com/e/103102900 peter white', 'https://www.bandsintown.com/e/102724677 kt tunstall']\n"
     ]
    }
   ],
   "source": [
    "# select the link from the original grab\n",
    "reg_list = [x.replace('-at','').replace('-', ' ') for x in reg_list]\n",
    "print(reg_list)"
   ],
   "metadata": {
    "collapsed": false,
    "pycharm": {
     "name": "#%%\n"
    }
   }
  },
  {
   "cell_type": "code",
   "execution_count": 90,
   "outputs": [
    {
     "name": "stdout",
     "output_type": "stream",
     "text": [
      "[' martin sexton', ' martin sexton', ' martin sexton', ' martin sexton', ' rebelution', ' rebelution', ' rebelution', ' rebelution', ' kt tunstall', ' kt tunstall', ' kt tunstall', ' kt tunstall', ' peter white', ' peter white', ' peter white', ' peter white', ' borgeous', ' borgeous', ' borgeous', ' borgeous', ' mike love', ' mike love', ' mike love', ' mike love', ' jvna', ' jvna', ' jvna', ' jvna', ' anuhea', ' anuhea', ' anuhea', ' sullivan king', ' sullivan king', ' sullivan king', ' air supply', ' air supply', ' air supply', ' air supply', ' taylor dayne', ' taylor dayne', ' taylor dayne', ' zeds dead', ' zeds dead', ' zeds dead', ' zeds dead', ' fia', ' fia', ' fia', ' fia', ' ron artis ii', ' ron artis ii', ' ron artis ii', ' ron artis ii', ' hippie sabotage', ' hippie sabotage', ' hippie sabotage', ' hippie sabotage', ' krewella', ' krewella', ' krewella', ' krewella', ' henry kapono', ' henry kapono', ' henry kapono', ' henry kapono', ' ajr', ' ajr', ' ajr', ' ajr', ' rebelution', ' rebelution', ' rebelution', ' rebelution', ' jvna', ' jvna', ' jvna', ' jvna', ' ron artis ii', ' ron artis ii', ' ron artis ii', ' ron artis ii', ' mike love', ' mike love', ' mike love', ' mike love', ' peter white', ' peter white', ' peter white', ' peter white', ' gabriel iglesias', ' gabriel iglesias', ' gabriel iglesias', ' gabriel iglesias', ' krewella', ' krewella', ' krewella', ' krewella', ' anuhea', ' anuhea', ' anuhea', ' fia', ' christafari', ' avion blackman', ' martin sexton', ' martin sexton', ' bobby moderow jr.', ' michael delara', ' kt tunstall', ' jasmin nicole', ' avion blackman', ' rebelution', ' christafari', ' john craigie', ' kt tunstall', ' christafari', ' kt tunstall', ' peter white', ' kt tunstall']\n"
     ]
    }
   ],
   "source": [
    "# select the band name after the space\n",
    "# this should work even for bands that start with numbers!\n",
    "pattern = re.compile(r\"\\s(.*)\")\n",
    "reg_list = [re.search(pattern , str(x)).group(0) for x in reg_list]\n",
    "\n",
    "print(reg_list)"
   ],
   "metadata": {
    "collapsed": false,
    "pycharm": {
     "name": "#%%\n"
    }
   }
  },
  {
   "cell_type": "code",
   "execution_count": 91,
   "outputs": [
    {
     "name": "stdout",
     "output_type": "stream",
     "text": [
      "[' martin sexton', ' martin sexton', ' martin sexton', ' martin sexton', ' rebelution', ' rebelution', ' rebelution', ' rebelution', ' kt tunstall', ' kt tunstall', ' kt tunstall', ' kt tunstall', ' peter white', ' peter white', ' peter white', ' peter white', ' borgeous', ' borgeous', ' borgeous', ' borgeous', ' mike love', ' mike love', ' mike love', ' mike love', ' jvna', ' jvna', ' jvna', ' jvna', ' anuhea', ' anuhea', ' anuhea', ' sullivan king', ' sullivan king', ' sullivan king', ' air supply', ' air supply', ' air supply', ' air supply', ' taylor dayne', ' taylor dayne', ' taylor dayne', ' zeds dead', ' zeds dead', ' zeds dead', ' zeds dead', ' fia', ' fia', ' fia', ' fia', ' ron artis ii', ' ron artis ii', ' ron artis ii', ' ron artis ii', ' hippie sabotage', ' hippie sabotage', ' hippie sabotage', ' hippie sabotage', ' krewella', ' krewella', ' krewella', ' krewella', ' henry kapono', ' henry kapono', ' henry kapono', ' henry kapono', ' ajr', ' ajr', ' ajr', ' ajr', ' rebelution', ' rebelution', ' rebelution', ' rebelution', ' jvna', ' jvna', ' jvna', ' jvna', ' ron artis ii', ' ron artis ii', ' ron artis ii', ' ron artis ii', ' mike love', ' mike love', ' mike love', ' mike love', ' peter white', ' peter white', ' peter white', ' peter white', ' gabriel iglesias', ' gabriel iglesias', ' gabriel iglesias', ' gabriel iglesias', ' krewella', ' krewella', ' krewella', ' krewella', ' anuhea', ' anuhea', ' anuhea', ' fia', ' christafari', ' avion blackman', ' martin sexton', ' martin sexton', ' bobby moderow jr.', ' michael delara', ' kt tunstall', ' jasmin nicole', ' avion blackman', ' rebelution', ' christafari', ' john craigie', ' kt tunstall', ' christafari', ' kt tunstall', ' peter white', ' kt tunstall']\n"
     ]
    }
   ],
   "source": [
    "# get rid of parentheses and commas (and nested lists by default)\n",
    "\n",
    "reg_list = [x.replace(\"'\",'').replace(',', '') for x in reg_list]\n",
    "print(reg_list)"
   ],
   "metadata": {
    "collapsed": false,
    "pycharm": {
     "name": "#%%\n"
    }
   }
  },
  {
   "cell_type": "code",
   "execution_count": 92,
   "outputs": [
    {
     "name": "stdout",
     "output_type": "stream",
     "text": [
      "[' christafari', ' henry kapono', ' martin sexton', ' taylor dayne', ' mike love', ' peter white', ' michael delara', ' jasmin nicole', ' fia', ' ajr', ' bobby moderow jr.', ' kt tunstall', ' avion blackman', ' jvna', ' john craigie', ' rebelution', ' borgeous', ' zeds dead', ' anuhea', ' krewella', ' hippie sabotage', ' air supply', ' ron artis ii', ' sullivan king', ' gabriel iglesias']\n"
     ]
    }
   ],
   "source": [
    "# drop duplicates by using a set\n",
    "band_list = list(set(reg_list))\n",
    "print(band_list)"
   ],
   "metadata": {
    "collapsed": false,
    "pycharm": {
     "name": "#%%\n"
    }
   }
  },
  {
   "cell_type": "code",
   "execution_count": 93,
   "outputs": [],
   "source": [
    "load_dotenv()\n",
    "# grab environment variables\n",
    "SPOTIFY_CLIENT_ID = os.getenv('SPOTIFY_CLIENT_ID')\n",
    "SPOTIFY_CLIENT_SECRET = os.getenv('SPOTIFY_CLIENT_SECRET')\n",
    "REDIRECT_URI = os.getenv('REDIRECT_URI')"
   ],
   "metadata": {
    "collapsed": false,
    "pycharm": {
     "name": "#%%\n"
    }
   }
  },
  {
   "cell_type": "code",
   "execution_count": 94,
   "outputs": [],
   "source": [
    "sp = spotipy.Spotify(\n",
    "    auth_manager=SpotifyOAuth(\n",
    "        scope=\"playlist-modify-public\",\n",
    "        redirect_uri=REDIRECT_URI,\n",
    "        client_id=SPOTIFY_CLIENT_ID,\n",
    "        client_secret=SPOTIFY_CLIENT_SECRET,\n",
    "        show_dialog=True,\n",
    "        cache_path=\"token.txt\",\n",
    "\n",
    "    )\n",
    ")\n",
    "user_id = sp.current_user()[\"id\"]"
   ],
   "metadata": {
    "collapsed": false,
    "pycharm": {
     "name": "#%%\n"
    }
   }
  },
  {
   "cell_type": "code",
   "execution_count": 95,
   "outputs": [],
   "source": [
    "# Creating a new Playlist\n",
    "playlist = sp.user_playlist_create(\n",
    "    user=user_id,\n",
    "    name=\"Upcoming Local Shows Playlist\",\n",
    "    public=True,\n",
    "    collaborative=False,\n",
    "    description=\"Songs from artists that will be playing in your area soon\",\n",
    ")\n",
    "\n",
    "playlist_id = playlist[\"id\"]"
   ],
   "metadata": {
    "collapsed": false,
    "pycharm": {
     "name": "#%%\n"
    }
   }
  },
  {
   "cell_type": "code",
   "execution_count": 96,
   "outputs": [],
   "source": [
    "def grab_track_ids(band_list):\n",
    "\n",
    "    track_ids = []\n",
    "\n",
    "    for i in range(len(band_list)):\n",
    "        results = sp.search(q=f\"{band_list[i]}\", limit=5, type='track')\n",
    "        if results['tracks']['total'] == 0:\n",
    "            continue\n",
    "        else:\n",
    "            for j in range(len(results['tracks']['items'])):\n",
    "                if fuzz.partial_ratio(results['tracks']['items'][j]['artists'][0]['name'], band_list[i]) > 75:\n",
    "                    track_ids.append(results['tracks']['items'][j]['id'])\n",
    "                else:\n",
    "                    continue\n",
    "    print(\"Gottem!\")\n",
    "\n",
    "    return track_ids"
   ],
   "metadata": {
    "collapsed": false,
    "pycharm": {
     "name": "#%%\n"
    }
   }
  },
  {
   "cell_type": "code",
   "execution_count": 97,
   "outputs": [
    {
     "name": "stdout",
     "output_type": "stream",
     "text": [
      "Gottem!\n"
     ]
    },
    {
     "data": {
      "text/plain": "['2ZlaPNCTkfbyOn29z3DrSo',\n '6aBhKc5wZiR8RMgNsc00l0',\n '4pYhtE56PsIbPYLCBTE6T4',\n '1i7RHPlMTpObShchH5OdXL',\n '7w7kCyJkJ0Odr5GdQepVpl',\n '3kNYQNKWBSSDxuUnyers75',\n '404boHKfhWyp7Ez1kg5Uq3',\n '219kkayTVqGSVU7j3cuBuN',\n '3hEQyEnyiyU0l1sgGHMXFp',\n '1SkfMlMAglPbsipBUBMG1H',\n '3IHMlWNnTqtVP32p46ZzJT',\n '3YVPpVJvJG2EauXurPA90F',\n '6jJCk7oHNwyowOUaF3gXEu',\n '3HLgjHYaEhKFvV4SSvI9Te',\n '6enR2PAZd7LUMMwQb4ciuh',\n '4hbXvRJfgctBgz7PVBtWQu',\n '73gASYnzwZAzq5IYQf4Hff',\n '6JXcrPDlgWcgCMZYJQgtTJ',\n '4x8mcYVZNcwmTvpgP74zTi',\n '5tuPqvXQw7SJwuX78R9pB2',\n '6Uob2aJYqcqPv5Z2BigRg6',\n '6yafxZlCDHvMjZYGgoW6zq',\n '1gYfwTmrdMapmkQg58JoW7',\n '0ssLwE3jh5gEeFQ7gfhA7j',\n '0B2H6GWmg8KpBv8qh7uO1S',\n '1DANjn6DqWd98WIR6JfkSp',\n '0eJ55ewXpVQuRqFG8keqf2',\n '07M5jP5WGeCLWhpRVZ7ouL',\n '0a40dbixRhznG359jQSivU',\n '27ytYULTu6QSZBhGaOKq9i',\n '5e6kMwY5gD9sYEEMUl4RbU',\n '2tvhVwzotuuzmRRvbUi6Rb',\n '52Cc6qv2MckQgLjeR5Eai0',\n '0exVC0ue4dRE2FRBFCRG4w',\n '2EDRUNdur7CGV2W2mwIRoS',\n '7fs5E0E7GpjX5Y381D6Rpc',\n '4TyCnstYu6LGrjka5WW6ft',\n '5gITmjpV05xxyylbHccLvS',\n '5Qnk8vP5g9l5SDQKU3qyYQ',\n '3G2O60rq5a77GEIwK1mVmh',\n '3jgo8iiV4GoyuzKw9dJu9j',\n '2bCjaF7cRm53Wdq9RtkYJu',\n '6uwjDA0Qi6hk8C6lPJIMc9',\n '0EE9zT8qlmoZhW5bwuoYVS',\n '5bFuHlXKw66Uu2cHKn5bf8',\n '6fyj8DYAUlrjDcJBOVnYEB',\n '13Dq0Ed9wyBU7mpoENkaS0',\n '1SFJG4vZLzjHTmGVj7Hrm8',\n '7yb0IIWyXN0fyxdo3075KX',\n '2SHnUyZq0zwmvRIl4WY77G',\n '3eUJpP9sVLaAzADydIRezg',\n '0ZPfoFzZ4qmdyzYmG8whmn',\n '1Nd3uXANYEAy9z30IlzIWF',\n '7MiZjKawmXTsTNePyTfPyL',\n '4E8pY7RmcGQl4K18yrBaI2',\n '3bjLA6ukBcGtvhe5tybxp7',\n '6ZT3coOj97F6CVvruPtnox',\n '7dQC53NiYOY9gKg3Qsu2Bs',\n '01MXkFA8sL7at6txavDErt',\n '6MfVSA5iKBPHzo6RGARjL0',\n '7aIG8lh4xZmWqOoASAifHf',\n '44MxUoeZg6FXDlHMrSbVjX',\n '2kzsCyn7vQLnKQkMtJdBjP',\n '6fPOpfpBId8FCDkxVinlOK',\n '1G6ZJWmmfzXl4kHTHHfp8R',\n '2c1KUgGKF3Vw3Wfptp7gkJ',\n '7nStW151PuOHowwFymthLg']"
     },
     "execution_count": 97,
     "metadata": {},
     "output_type": "execute_result"
    }
   ],
   "source": [
    "track_ids = grab_track_ids(band_list)\n",
    "\n",
    "track_ids"
   ],
   "metadata": {
    "collapsed": false,
    "pycharm": {
     "name": "#%%\n"
    }
   }
  },
  {
   "cell_type": "code",
   "execution_count": 99,
   "outputs": [],
   "source": [
    "list_of_playlists = sp.user_playlists(user_id, limit=50, offset=0)\n",
    "\n",
    "for p in list_of_playlists['items']:\n",
    "\n",
    "    if p['name'] == 'Upcoming Local Shows Playlist':\n",
    "        p_id = p['id']\n",
    "        sp.user_playlist_replace_tracks(user_id, p_id, track_ids)\n",
    "        break\n",
    "    else:\n",
    "        # create a new playlist\n",
    "        playlist = sp.user_playlist_create(user=user_id,\n",
    "                                name=\"Upcoming Local Shows Playlist\",\n",
    "                                public=True,\n",
    "                                collaborative=False,\n",
    "                                description=\"Songs from artists that will be playing in your area this coming week\")\n",
    "        # grab playlist id\n",
    "        p_id = playlist[\"id\"]\n",
    "\n",
    "        # add tracks to new playlist\n",
    "        sp.user_playlist_add_tracks(user_id, p_id, track_ids)\n"
   ],
   "metadata": {
    "collapsed": false,
    "pycharm": {
     "name": "#%%\n"
    }
   }
  },
  {
   "cell_type": "code",
   "execution_count": null,
   "outputs": [],
   "source": [],
   "metadata": {
    "collapsed": false,
    "pycharm": {
     "name": "#%%\n"
    }
   }
  },
  {
   "cell_type": "code",
   "execution_count": null,
   "outputs": [],
   "source": [],
   "metadata": {
    "collapsed": false,
    "pycharm": {
     "name": "#%%\n"
    }
   }
  },
  {
   "cell_type": "code",
   "execution_count": null,
   "outputs": [],
   "source": [],
   "metadata": {
    "collapsed": false,
    "pycharm": {
     "name": "#%%\n"
    }
   }
  }
 ],
 "metadata": {
  "kernelspec": {
   "display_name": "Python 3",
   "language": "python",
   "name": "python3"
  },
  "language_info": {
   "codemirror_mode": {
    "name": "ipython",
    "version": 2
   },
   "file_extension": ".py",
   "mimetype": "text/x-python",
   "name": "python",
   "nbconvert_exporter": "python",
   "pygments_lexer": "ipython2",
   "version": "2.7.6"
  }
 },
 "nbformat": 4,
 "nbformat_minor": 0
}